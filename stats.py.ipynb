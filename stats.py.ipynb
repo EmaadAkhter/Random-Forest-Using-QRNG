{
 "cells": [
  {
   "cell_type": "code",
   "id": "initial_id",
   "metadata": {
    "collapsed": true,
    "ExecuteTime": {
     "end_time": "2025-09-05T11:17:15.015441Z",
     "start_time": "2025-09-05T11:17:15.010610Z"
    }
   },
   "source": [
    "from Random_search_cv import Random_search_cv,create_example_param_distributions\n",
    "from sklearn.datasets import load_breast_cancer\n",
    "from sklearn.model_selection import train_test_split\n",
    "from sklearn.preprocessing import StandardScaler\n",
    "import numpy as np\n",
    "from tree import DecisionTree\n",
    "from random_forest import random_forest\n",
    "from Qrng import qml_random_choice, NumberGenerator\n",
    "import time"
   ],
   "outputs": [],
   "execution_count": 30
  },
  {
   "metadata": {
    "ExecuteTime": {
     "end_time": "2025-09-05T11:17:15.035164Z",
     "start_time": "2025-09-05T11:17:15.025528Z"
    }
   },
   "cell_type": "code",
   "source": [
    "data = load_breast_cancer()\n",
    "X,y=data.data,data.target\n",
    "X_train, X_test, y_train, y_test = train_test_split(X, y, test_size=0.4, random_state=42)\n"
   ],
   "id": "bade050686d900e5",
   "outputs": [],
   "execution_count": 31
  },
  {
   "metadata": {
    "ExecuteTime": {
     "end_time": "2025-09-05T11:17:15.042465Z",
     "start_time": "2025-09-05T11:17:15.040441Z"
    }
   },
   "cell_type": "code",
   "source": [
    "def accuracy(y_true, y_pred):\n",
    "    return np.sum(y_true == y_pred)/len(y_true)"
   ],
   "id": "f62c1c4a04c572b8",
   "outputs": [],
   "execution_count": 32
  },
  {
   "metadata": {
    "ExecuteTime": {
     "end_time": "2025-09-05T11:17:15.051155Z",
     "start_time": "2025-09-05T11:17:15.047055Z"
    }
   },
   "cell_type": "code",
   "source": [
    "d_t=DecisionTree()\n",
    "r_f=random_forest()\n",
    "\n",
    "param_distributions=create_example_param_distributions()\n",
    "random= NumberGenerator(20**2)\n",
    "R_num=random.generate_unbiased()\n",
    "o_r_f= Random_search_cv(random_forest, param_distributions, cv=5, n_iter=5, scoring='accuracy',\n",
    "                                      random_state=R_num)"
   ],
   "id": "d4c7f22782bfd278",
   "outputs": [],
   "execution_count": 33
  },
  {
   "metadata": {
    "ExecuteTime": {
     "end_time": "2025-09-05T11:17:15.757886Z",
     "start_time": "2025-09-05T11:17:15.054540Z"
    }
   },
   "cell_type": "code",
   "source": [
    "start_time = time.time()\n",
    "d_t.fit(X_train, y_train)\n",
    "y_pred = d_t.predict(X_test)\n",
    "\n",
    "acc = accuracy(y_test, y_pred)\n",
    "print(f\"accuracy: {acc*100:.4f}%\")\n",
    "print(y_pred-y_test)\n",
    "end_time = time.time()\n",
    "print(f\"Time: {end_time-start_time}s\")"
   ],
   "id": "9cbc21b5a3ea1bda",
   "outputs": [
    {
     "name": "stdout",
     "output_type": "stream",
     "text": [
      "accuracy: 94.2982%\n",
      "[ 0  0  0  0  0  0  0  0 -1  0  0  0  0  1  0  0  0  0  0  0  1  0  0  0\n",
      "  0  0  0  0  0  0  0  0 -1  0  0  0  0  0  0  0  0  0  0  0  0  0  0  0\n",
      "  0  0  0  0 -1  0  0  0  0  0  0  0  0  0  0  0  0  0  0  0  0  0  0  0\n",
      "  0  0  0  0  0  1  0  0  0  0  1  0  1  0  0  0  0  0  0  0  0  0  0  0\n",
      "  0  0  0  0  0  0  0  0  0  0  0  0 -1  0  0  0  0  0  0  0  0  0  0  0\n",
      "  0  0  0  0  0  0  0  0  0  0  0  0  0  0  0  0 -1  0  0  0  0  0  0  0\n",
      "  0  0  0  0  0  0  0  0  0  0  0  0  0  0  0  0  0  0  0  0  1  0  0  0\n",
      "  0  0  0  0  0  0  0  0  1  0  0  0  0  0  0  0  0  0  0  0  0  0  0  0\n",
      "  0  0  0  0  0  0  0  0  0  0  0  0  0  0  0  0  0  1  0  0  0  0  0  0\n",
      "  0  0  0  0  0  0  0  0  0  0  0  0]\n",
      "Time: 0.7010989189147949s\n"
     ]
    }
   ],
   "execution_count": 34
  },
  {
   "metadata": {
    "ExecuteTime": {
     "end_time": "2025-09-05T11:17:59.168989Z",
     "start_time": "2025-09-05T11:17:15.766304Z"
    }
   },
   "cell_type": "code",
   "source": [
    "start_time = time.time()\n",
    "r_f.fit(X_train, y_train)\n",
    "y_pred = r_f.predict(X_test)\n",
    "\n",
    "acc = accuracy(y_test, y_pred)\n",
    "print(f\"accuracy: {acc*100:.4f}%\")\n",
    "print(y_pred-y_test)\n",
    "end_time = time.time()\n",
    "print(f\"Time: {end_time-start_time}s\")"
   ],
   "id": "ef9a4d8e69fbd4dc",
   "outputs": [
    {
     "name": "stdout",
     "output_type": "stream",
     "text": [
      "accuracy: 96.4912%\n",
      "[ 0  0  0  0  0  0  0  0 -1  0  0  0  0  0  0  0  0  0  0  0  1  0  0  0\n",
      "  0  0  0  0  0  0  0  0  0  0  0  0  0  0  0  0  0  0  0  0  0  0  0  0\n",
      "  0  0  0  0  0  0  0  0  0  0  0  0  0  0  0  0  0  0  0  0  0  0  0  0\n",
      "  0  0  0  0  0  1  0  0  0  0  1  0  0  0  0  0  0  0  0  0  0  0  0  0\n",
      "  0  0  0  0  0  0  0  0  0  0  0  0 -1  0  0  0  0  0  0  0  0  0  0  0\n",
      "  0  0  0  0  0  0  0  0  0  0  0  0  0  0  0  0 -1  0  0  0  0  0  0  0\n",
      "  0  0  0  0  0  0  0  0  0  0  0  0  0  0  0  0  0  0  0  0  1  0  0  0\n",
      "  0  0  0  0  0  0  0  0  1  0  0  0  0  0  0  0  0  0  0  0  0  0  0  0\n",
      "  0  0  0  0  0  0  0  0  0  0  0  0  0  0  0  0  0  0  0  0  0  0  0  0\n",
      "  0  0  0  0  0  0  0  0  0  0  0  0]\n",
      "Time: 43.400830030441284s\n"
     ]
    }
   ],
   "execution_count": 35
  },
  {
   "metadata": {
    "ExecuteTime": {
     "end_time": "2025-09-05T11:28:02.535417Z",
     "start_time": "2025-09-05T11:17:59.184355Z"
    }
   },
   "cell_type": "code",
   "source": [
    "start_time = time.time()\n",
    "o_r_f.fit(X, y)\n",
    "best_rf = o_r_f.get_best_estimator()\n",
    "\n",
    "selected_features = o_r_f.get_quantum_feature_selection(X, n_features=10)\n",
    "X_selected = X[:, selected_features]"
   ],
   "id": "add51d3c683b3db4",
   "outputs": [
    {
     "name": "stdout",
     "output_type": "stream",
     "text": [
      "Iteration 1/5: Score = 0.9315 (+/- 0.0279)\n",
      "  Parameters: {'n_trees': 16, 'max_depth': 136, 'min_sample_split': 151, 'n_features': 45}\n",
      "Iteration 2/5: Score = 0.9139 (+/- 0.0257)\n",
      "  Parameters: {'n_trees': 131, 'max_depth': 1, 'min_sample_split': 146, 'n_features': 60}\n",
      "Iteration 3/5: Score = 0.9332 (+/- 0.0154)\n",
      "  Parameters: {'n_trees': 81, 'max_depth': 11, 'min_sample_split': 171, 'n_features': 140}\n",
      "Iteration 4/5: Score = 0.9525 (+/- 0.0071)\n",
      "  Parameters: {'n_trees': 101, 'max_depth': 106, 'min_sample_split': 11, 'n_features': 35}\n",
      "Iteration 5/5: Score = 0.9086 (+/- 0.0302)\n",
      "  Parameters: {'n_trees': 1, 'max_depth': 101, 'min_sample_split': 141, 'n_features': 70}\n"
     ]
    }
   ],
   "execution_count": 36
  },
  {
   "metadata": {
    "ExecuteTime": {
     "end_time": "2025-09-05T11:28:02.567828Z",
     "start_time": "2025-09-05T11:28:02.566079Z"
    }
   },
   "cell_type": "code",
   "source": [
    "print(f\"Best parameters: {o_r_f.best_params_}\")\n",
    "print(f\"Best accuracy: {o_r_f.best_score_:.4f}\")\n"
   ],
   "id": "292edbc39b8cdc6b",
   "outputs": [
    {
     "name": "stdout",
     "output_type": "stream",
     "text": [
      "Best parameters: {'n_trees': 101, 'max_depth': 106, 'min_sample_split': 11, 'n_features': 35}\n",
      "Best accuracy: 0.9525\n"
     ]
    }
   ],
   "execution_count": 37
  },
  {
   "metadata": {
    "ExecuteTime": {
     "end_time": "2025-09-05T11:31:13.641254Z",
     "start_time": "2025-09-05T11:29:54.438092Z"
    }
   },
   "cell_type": "code",
   "source": [
    "final_rf = random_forest(**o_r_f.best_params_)\n",
    "final_rf.fit(X, y)\n",
    "y_pred = r_f.predict(X_test)\n",
    "\n",
    "acc = accuracy(y_test, y_pred)\n",
    "print(f\"accuracy: {acc*100:.4f}%\")\n",
    "print(y_pred-y_test)\n",
    "end_time = time.time()\n",
    "print(f\"Time: {end_time-start_time}s\")"
   ],
   "id": "f88083b6fe0da99b",
   "outputs": [
    {
     "name": "stdout",
     "output_type": "stream",
     "text": [
      "accuracy: 96.4912%\n",
      "[ 0  0  0  0  0  0  0  0 -1  0  0  0  0  0  0  0  0  0  0  0  1  0  0  0\n",
      "  0  0  0  0  0  0  0  0  0  0  0  0  0  0  0  0  0  0  0  0  0  0  0  0\n",
      "  0  0  0  0  0  0  0  0  0  0  0  0  0  0  0  0  0  0  0  0  0  0  0  0\n",
      "  0  0  0  0  0  1  0  0  0  0  1  0  0  0  0  0  0  0  0  0  0  0  0  0\n",
      "  0  0  0  0  0  0  0  0  0  0  0  0 -1  0  0  0  0  0  0  0  0  0  0  0\n",
      "  0  0  0  0  0  0  0  0  0  0  0  0  0  0  0  0 -1  0  0  0  0  0  0  0\n",
      "  0  0  0  0  0  0  0  0  0  0  0  0  0  0  0  0  0  0  0  0  1  0  0  0\n",
      "  0  0  0  0  0  0  0  0  1  0  0  0  0  0  0  0  0  0  0  0  0  0  0  0\n",
      "  0  0  0  0  0  0  0  0  0  0  0  0  0  0  0  0  0  0  0  0  0  0  0  0\n",
      "  0  0  0  0  0  0  0  0  0  0  0  0]\n",
      "Time: 794.4552283287048s\n"
     ]
    }
   ],
   "execution_count": 39
  },
  {
   "metadata": {},
   "cell_type": "code",
   "outputs": [],
   "execution_count": null,
   "source": "",
   "id": "e5743263c1a05636"
  }
 ],
 "metadata": {
  "kernelspec": {
   "display_name": "Python 3",
   "language": "python",
   "name": "python3"
  },
  "language_info": {
   "codemirror_mode": {
    "name": "ipython",
    "version": 2
   },
   "file_extension": ".py",
   "mimetype": "text/x-python",
   "name": "python",
   "nbconvert_exporter": "python",
   "pygments_lexer": "ipython2",
   "version": "2.7.6"
  }
 },
 "nbformat": 4,
 "nbformat_minor": 5
}
